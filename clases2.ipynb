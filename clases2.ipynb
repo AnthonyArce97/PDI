{
  "nbformat": 4,
  "nbformat_minor": 0,
  "metadata": {
    "colab": {
      "name": "Untitled0.ipynb",
      "provenance": [],
      "authorship_tag": "ABX9TyMj5IHUk6n3y+PwHRcoAoEJ",
      "include_colab_link": true
    },
    "kernelspec": {
      "name": "python3",
      "display_name": "Python 3"
    }
  },
  "cells": [
    {
      "cell_type": "markdown",
      "metadata": {
        "id": "view-in-github",
        "colab_type": "text"
      },
      "source": [
        "<a href=\"https://colab.research.google.com/github/AnthonyArce97/PDI/blob/master/clases2.ipynb\" target=\"_parent\"><img src=\"https://colab.research.google.com/assets/colab-badge.svg\" alt=\"Open In Colab\"/></a>"
      ]
    },
    {
      "cell_type": "code",
      "metadata": {
        "id": "HovVeAIgiHvy",
        "colab_type": "code",
        "colab": {
          "base_uri": "https://localhost:8080/",
          "height": 34
        },
        "outputId": "15c4e900-639e-4797-b10b-c340b87611de"
      },
      "source": [
        "x=0\n",
        "print(y)\n",
        "\n",
        "\n"
      ],
      "execution_count": 4,
      "outputs": [
        {
          "output_type": "stream",
          "text": [
            "0.0\n"
          ],
          "name": "stdout"
        }
      ]
    },
    {
      "cell_type": "code",
      "metadata": {
        "id": "HWk7-7VZlyMW",
        "colab_type": "code",
        "colab": {}
      },
      "source": [
        "y=0.0\n",
        "z= True\n",
        "f=\"Hola\"\n",
        "\n",
        " \n",
        " \n",
        "\n",
        "import cv2"
      ],
      "execution_count": 0,
      "outputs": []
    },
    {
      "cell_type": "code",
      "metadata": {
        "id": "WmEkkKEEnWgy",
        "colab_type": "code",
        "colab": {
          "base_uri": "https://localhost:8080/",
          "height": 34
        },
        "outputId": "7f0410f5-9631-4759-a184-e626ccca36c6"
      },
      "source": [
        "def suma (d,w):\n",
        "  return d+w\n",
        "\n",
        "suma(2,3)\n",
        "\n",
        "\n"
      ],
      "execution_count": 11,
      "outputs": [
        {
          "output_type": "execute_result",
          "data": {
            "text/plain": [
              "5"
            ]
          },
          "metadata": {
            "tags": []
          },
          "execution_count": 11
        }
      ]
    },
    {
      "cell_type": "code",
      "metadata": {
        "id": "yq-GJdrCqU2K",
        "colab_type": "code",
        "colab": {
          "base_uri": "https://localhost:8080/",
          "height": 34
        },
        "outputId": "9664b4c4-2b5a-4dbf-8c5d-f3b2312f63e5"
      },
      "source": [
        "def perimetro (s):\n",
        "  return s*4\n",
        "\n",
        "perimetro(4)"
      ],
      "execution_count": 27,
      "outputs": [
        {
          "output_type": "execute_result",
          "data": {
            "text/plain": [
              "16"
            ]
          },
          "metadata": {
            "tags": []
          },
          "execution_count": 27
        }
      ]
    },
    {
      "cell_type": "code",
      "metadata": {
        "id": "M14ReVimttOQ",
        "colab_type": "code",
        "colab": {
          "base_uri": "https://localhost:8080/",
          "height": 34
        },
        "outputId": "69231217-721a-464c-9d52-90e72f7df1a1"
      },
      "source": [
        "def calcularArea(s):\n",
        "  return s**2\n",
        "\n",
        "def cuadrado(s):\n",
        "  f= perimetro(s) \n",
        "  d=calcularArea(s)\n",
        "  return f,d \n",
        "\n",
        "cuadrado(5)"
      ],
      "execution_count": 30,
      "outputs": [
        {
          "output_type": "execute_result",
          "data": {
            "text/plain": [
              "(20, 25)"
            ]
          },
          "metadata": {
            "tags": []
          },
          "execution_count": 30
        }
      ]
    },
    {
      "cell_type": "code",
      "metadata": {
        "id": "kqP81IrM4Z7e",
        "colab_type": "code",
        "colab": {
          "base_uri": "https://localhost:8080/",
          "height": 34
        },
        "outputId": "dcee6c4e-76bd-4fb8-ff65-6f89df8328a5"
      },
      "source": [
        "x=[2]\n",
        "x[0]=1\n",
        "x.append(5)\n",
        "x.append(\"nep\")\n",
        "print(x)"
      ],
      "execution_count": 39,
      "outputs": [
        {
          "output_type": "stream",
          "text": [
            "[1, 5, 'nep']\n"
          ],
          "name": "stdout"
        }
      ]
    }
  ]
}